{
  "nbformat": 4,
  "nbformat_minor": 0,
  "metadata": {
    "colab": {
      "provenance": [],
      "authorship_tag": "ABX9TyMFrMp0AqhNFvKj6txVDfeS",
      "include_colab_link": true
    },
    "kernelspec": {
      "name": "python3",
      "display_name": "Python 3"
    },
    "language_info": {
      "name": "python"
    }
  },
  "cells": [
    {
      "cell_type": "markdown",
      "metadata": {
        "id": "view-in-github",
        "colab_type": "text"
      },
      "source": [
        "<a href=\"https://colab.research.google.com/github/oyinloluwa20/Deep-Learning/blob/main/pytorch_workflow.ipynb\" target=\"_parent\"><img src=\"https://colab.research.google.com/assets/colab-badge.svg\" alt=\"Open In Colab\"/></a>"
      ]
    },
    {
      "cell_type": "code",
      "execution_count": 22,
      "metadata": {
        "id": "BTZPTFtfOf69",
        "colab": {
          "base_uri": "https://localhost:8080/",
          "height": 35
        },
        "outputId": "251441d1-27ad-4a3b-c32a-ee741efc3823"
      },
      "outputs": [
        {
          "output_type": "execute_result",
          "data": {
            "text/plain": [
              "'1.13.1+cu116'"
            ],
            "application/vnd.google.colaboratory.intrinsic+json": {
              "type": "string"
            }
          },
          "metadata": {},
          "execution_count": 22
        }
      ],
      "source": [
        "import torch\n",
        "from torch import nn #nn contains all of pytorch's building block from neural network\n",
        "import matplotlib.pyplot as plt\n",
        "\n",
        "#check pyTorch version\n",
        "torch.__version__\n"
      ]
    },
    {
      "cell_type": "markdown",
      "source": [
        "##Data(preparing and loading)\n",
        "* Excel speadsheet\n",
        "* Images of any kind\n",
        "* Vidoes (youtube has a lot of data...)\n",
        "* Audio like songs or podcasts\n",
        "* DNA\n",
        "* Text\n",
        "\n",
        "Machine learning is a game of two parts:\n",
        "1. Get data into a numerical representation.\n",
        "2. Build a model to learn patterns in that numerical representation.\n",
        "\n",
        "let's create some known data using the linear regression formula.\n",
        "\n",
        "We'll use a linear regression formula to make a straight line with known parameters."
      ],
      "metadata": {
        "id": "l4pkSdozVYwn"
      }
    },
    {
      "cell_type": "markdown",
      "source": [
        "## Linear Regression\n",
        "A linear regression line has an equation of the form Y =a+bX, where Xis the independent variable and Y is the dependent variable. The slope of the line is b and a is the intercept( the value of y when x = 0)\n",
        "\n",
        "### Formula\n",
        "   *Y =f(X,B) + e*\n",
        " * Y = dependent variable\n",
        " * f = function\n",
        " * X = independent variable\n",
        " * B = unknown parameter\n",
        " * e = error"
      ],
      "metadata": {
        "id": "Uy22BedrgEZ3"
      }
    },
    {
      "cell_type": "code",
      "source": [
        "# Create a known parameters\n",
        "weight =0.7\n",
        "bias =0.3\n",
        "\n",
        "#Create\n",
        "start =0\n",
        "end=1\n",
        "step=0.02\n",
        "\n",
        "X = torch.arange(start, end, step).unsqueeze(dim=1)\n",
        "y = weight * X + bias\n",
        "print(f'The len of x and y {len(y), len(X)}')\n",
        "X[:10], y[:10]"
      ],
      "metadata": {
        "colab": {
          "base_uri": "https://localhost:8080/"
        },
        "id": "YxDX5wOfUIRS",
        "outputId": "26e6286d-a907-4b63-afdf-430eef6cc2b2"
      },
      "execution_count": 23,
      "outputs": [
        {
          "output_type": "stream",
          "name": "stdout",
          "text": [
            "The len of x and y (50, 50)\n"
          ]
        },
        {
          "output_type": "execute_result",
          "data": {
            "text/plain": [
              "(tensor([[0.0000],\n",
              "         [0.0200],\n",
              "         [0.0400],\n",
              "         [0.0600],\n",
              "         [0.0800],\n",
              "         [0.1000],\n",
              "         [0.1200],\n",
              "         [0.1400],\n",
              "         [0.1600],\n",
              "         [0.1800]]), tensor([[0.3000],\n",
              "         [0.3140],\n",
              "         [0.3280],\n",
              "         [0.3420],\n",
              "         [0.3560],\n",
              "         [0.3700],\n",
              "         [0.3840],\n",
              "         [0.3980],\n",
              "         [0.4120],\n",
              "         [0.4260]]))"
            ]
          },
          "metadata": {},
          "execution_count": 23
        }
      ]
    },
    {
      "cell_type": "code",
      "source": [
        " len(X) , len(y)"
      ],
      "metadata": {
        "colab": {
          "base_uri": "https://localhost:8080/"
        },
        "id": "vU0XMWZhaiss",
        "outputId": "3c67e1d1-76b8-46d3-bf55-822ca4e8551d"
      },
      "execution_count": 24,
      "outputs": [
        {
          "output_type": "execute_result",
          "data": {
            "text/plain": [
              "(50, 50)"
            ]
          },
          "metadata": {},
          "execution_count": 24
        }
      ]
    },
    {
      "cell_type": "markdown",
      "source": [
        "### Splitting data into training and testing sets"
      ],
      "metadata": {
        "id": "3T1amFbab9pj"
      }
    },
    {
      "cell_type": "code",
      "source": [
        "#Create a train/test split\n",
        "train_split =int(0.8 * len(X))\n",
        "X_train, y_train = X[:train_split], y[:train_split]\n",
        "X_test, y_test = X[train_split:], y[train_split:]\n",
        " \n",
        "len(X_train),len(y_train),len(X_test),len(y_test)"
      ],
      "metadata": {
        "colab": {
          "base_uri": "https://localhost:8080/"
        },
        "id": "gu-59H-tcRJK",
        "outputId": "452fb24a-a76c-457e-f78f-7f9397c4dd37"
      },
      "execution_count": 25,
      "outputs": [
        {
          "output_type": "execute_result",
          "data": {
            "text/plain": [
              "(40, 40, 10, 10)"
            ]
          },
          "metadata": {},
          "execution_count": 25
        }
      ]
    },
    {
      "cell_type": "markdown",
      "source": [
        "##Data visualization\n",
        "Let's visualise our data using the mathplot library"
      ],
      "metadata": {
        "id": "81ORE-45n7sQ"
      }
    },
    {
      "cell_type": "code",
      "source": [
        "def plot_predictions(train_data =X_train,\n",
        "                    train_labels =y_train,\n",
        "                    test_data = X_test,\n",
        "                    test_labels = y_test,\n",
        "                    predictions =None):\n",
        "  \"\"\"\n",
        "  Plots training data, test data and compares predictions.\n",
        "  \"\"\"\n",
        "  plt.figure(figsize=(10,7))\n",
        "\n",
        "  #Plot training data in blue\n",
        "  plt.scatter(train_data, train_labels, c=\"b\", s=4, label =\"Training data\")\n",
        "\n",
        "  #Plot test data in green\n",
        "  plt.scatter(test_data, test_labels, c=\"g\", s=4, label =\"Test data\")\n",
        "\n",
        "  #If there are predictions, then plot it\n",
        "  if predictions is not None:\n",
        "    plt.scatter(test_data, predictions, c =\"r\" , label =\" Predictions\")\n",
        "\n",
        "  # Show the legend, i.e the show the label\n",
        "  plt.legend(prop ={\"size\" :14});\n"
      ],
      "metadata": {
        "id": "CLlt5cOjhSBY"
      },
      "execution_count": 26,
      "outputs": []
    },
    {
      "cell_type": "code",
      "source": [
        "plot_predictions()"
      ],
      "metadata": {
        "colab": {
          "base_uri": "https://localhost:8080/",
          "height": 428
        },
        "id": "x6G9fEx9pSsm",
        "outputId": "5495290d-4f96-496e-8554-12e30136bc01"
      },
      "execution_count": 27,
      "outputs": [
        {
          "output_type": "display_data",
          "data": {
            "text/plain": [
              "<Figure size 720x504 with 1 Axes>"
            ],
            "image/png": "[encoded data removed]"
          },
          "metadata": {
            "needs_background": "light"
          }
        }
      ]
    },
    {
      "cell_type": "markdown",
      "source": [
        "##2. Build model\n",
        "First PyTorch model.\n",
        "you have to be familar with oop in python, https://realpython.com/pyhton3-object-oriented-programming/ is a great resource to learn.\n",
        "\n",
        "The process our model follows:\n",
        "* Start with random values (weight & bias)\n",
        "* Looks at training data and adjust the random values to better represent ( or get closer to) the idea values ( the weight & bias values we used to create the data)\n",
        "\n",
        "How does it do so?\n",
        "\n",
        "Through two main algorithms:\n",
        "1. Gradient descent\n",
        "2. Backpropagation\n",
        "\n",
        "Learn this 2 concepts from 3blue1brown- youtube channel\n"
      ],
      "metadata": {
        "id": "X8K4xeEYragg"
      }
    },
    {
      "cell_type": "code",
      "source": [
        "from torch import nn\n",
        "#Create linear regression model class\n",
        "class linearRegressionModel(nn.Module):\n",
        "  def __init__(self):\n",
        "      super().__init__()\n",
        "      self.weights =nn.Parameter(torch.randn(1,\n",
        "                                             requires_grad =True,\n",
        "                                             dtype= torch.float)) # we create a weight parameter using nn.parameter\n",
        "      self.bias = nn.Parameter(torch.randn(1,\n",
        "                                           requires_grad =True,\n",
        "                                           dtype= torch.float)) # we create a bias also using nn.parameter\n",
        "  #Forward method to define the computation in the model\n",
        "  def forward(self, x:torch.Tensor)-> torch.Tensor: # <- \"x\" is the input data\n",
        "      return self.weights * x +self.bias  #this is the linear regression formula"
      ],
      "metadata": {
        "id": "36p9xRCurV_s"
      },
      "execution_count": 45,
      "outputs": []
    },
    {
      "cell_type": "markdown",
      "source": [
        "### Pytorch model building essentials\n",
        "\n",
        "* torch.nn - contains all of the building blcks for computataion graphs( a neural network can be considered as a computational graph)\n",
        "* torch.nn.parameters - the parameters required for the classes\n",
        "* torch.nn.module - The base class for all neural network modules, if you subclass it, you should overwrite the forward() \n",
        "* torch.optim - this is where the optimizers in PyTorch live, they help with gradient descent\n",
        "* def forward() -A ll nn.module sunclasses requires you to overwrite forward(), this defines what happens in the forward computation\n",
        "* torch.utils.data.Dataset - Represents a map between key(label) and sample(features) pairs of your data. Such as images and their associated labels\n",
        "* torch.utils.data.Dataloader - Creates a Python iterable over a torch Dataset(allows you to iterate over your data)"
      ],
      "metadata": {
        "id": "3N_Nk9voAes0"
      }
    },
    {
      "cell_type": "markdown",
      "source": [
        "## Checking the contents of our PyTorch model\n",
        "To check our model parameters we use .parameters()."
      ],
      "metadata": {
        "id": "tnb91CH3Mg_8"
      }
    },
    {
      "cell_type": "code",
      "source": [
        "# Create a random seed\n",
        "torch.manual_seed(42)\n",
        "\n",
        "# Create an instance of the model\n",
        "model_0 = linearRegressionModel()\n",
        "#Check out the parameters with different methods\n",
        "model_0.bias, model_0.weights,list(model_0.parameters()),model_0.state_dict()\n"
      ],
      "metadata": {
        "colab": {
          "base_uri": "https://localhost:8080/"
        },
        "id": "sbqkb54s2-AS",
        "outputId": "46202f1f-b26f-4561-d0df-092c727f9f8f"
      },
      "execution_count": 44,
      "outputs": [
        {
          "output_type": "execute_result",
          "data": {
            "text/plain": [
              "(Parameter containing:\n",
              " tensor([0.1288], requires_grad=True), Parameter containing:\n",
              " tensor([0.3367], requires_grad=True), [Parameter containing:\n",
              "  tensor([0.3367], requires_grad=True), Parameter containing:\n",
              "  tensor([0.1288], requires_grad=True)], OrderedDict([('weights',\n",
              "               tensor([0.3367])),\n",
              "              ('bias', tensor([0.1288]))]))"
            ]
          },
          "metadata": {},
          "execution_count": 44
        }
      ]
    },
    {
      "cell_type": "markdown",
      "source": [
        "### Making prediction using `torch.inference_mode()`\n",
        "\n",
        "To check our model's predictive power, let's see how well it predicts `y_test` based on `x_test`.\n",
        "When we pass data through our model, it.s going to run it through the `forward()` method."
      ],
      "metadata": {
        "id": "qL2H0QkpVwIR"
      }
    },
    {
      "cell_type": "code",
      "source": [
        "# Make predictions with the model\n",
        "with torch.inference_mode():\n",
        "  y_preds = model_0(X_test)\n",
        "\n",
        "y_preds"
      ],
      "metadata": {
        "colab": {
          "base_uri": "https://localhost:8080/"
        },
        "id": "J5EOMc5oVDIs",
        "outputId": "da16891a-cc56-468d-aebf-dde720e91164"
      },
      "execution_count": 48,
      "outputs": [
        {
          "output_type": "execute_result",
          "data": {
            "text/plain": [
              "tensor([[0.3982],\n",
              "        [0.4049],\n",
              "        [0.4116],\n",
              "        [0.4184],\n",
              "        [0.4251],\n",
              "        [0.4318],\n",
              "        [0.4386],\n",
              "        [0.4453],\n",
              "        [0.4520],\n",
              "        [0.4588]])"
            ]
          },
          "metadata": {},
          "execution_count": 48
        }
      ]
    },
    {
      "cell_type": "code",
      "source": [
        "plot_predictions(predictions=y_preds)"
      ],
      "metadata": {
        "colab": {
          "base_uri": "https://localhost:8080/",
          "height": 428
        },
        "id": "GpXaXRE6cl2s",
        "outputId": "9ee044a2-094b-4b23-f642-472d2842ea07"
      },
      "execution_count": 49,
      "outputs": [
        {
          "output_type": "display_data",
          "data": {
            "text/plain": [
              "<Figure size 720x504 with 1 Axes>"
            ],
            "image/png": "[encoded data removed]"
          },
          "metadata": {
            "needs_background": "light"
          }
        }
      ]
    },
    {
      "cell_type": "markdown",
      "source": [
        "## 3. Train model\n",
        "\n",
        "The whole idea of training is for a model to move from some *unknown* parameters (these may be random) to a known parameters\n",
        "\n",
        "or in other wors from a poor representation of the data to a better representation\n",
        "\n",
        "One way to measure how poor or how wrong your models predictions are, is to use a loss function.\n",
        "\n",
        "* Note: Loss function may also be called cost function or critierion in different areas\n",
        "\n",
        "Things we need to train:\n",
        "\n",
        "* **Loss function:** A function to measure how wrong your model's predictions are to the ideal outputs, lower is better\n",
        "* **Optimizer:** Takes into account the loss of a model and adjust the model.s parameters (i.e weight& bias)"
      ],
      "metadata": {
        "id": "FLxa0vP3d3Vi"
      }
    },
    {
      "cell_type": "code",
      "source": [
        "list(model_0.parameters())"
      ],
      "metadata": {
        "colab": {
          "base_uri": "https://localhost:8080/"
        },
        "id": "EEb_utNxhA0D",
        "outputId": "d14f5f64-da5f-45a2-9d17-b6e91e2b7d69"
      },
      "execution_count": 50,
      "outputs": [
        {
          "output_type": "execute_result",
          "data": {
            "text/plain": [
              "[Parameter containing:\n",
              " tensor([0.3367], requires_grad=True), Parameter containing:\n",
              " tensor([0.1288], requires_grad=True)]"
            ]
          },
          "metadata": {},
          "execution_count": 50
        }
      ]
    },
    {
      "cell_type": "code",
      "source": [
        "model_0.state_dict()"
      ],
      "metadata": {
        "id": "8OrWYO2thH30"
      },
      "execution_count": null,
      "outputs": []
    }
  ]
}