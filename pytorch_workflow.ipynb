{
  "nbformat": 4,
  "nbformat_minor": 0,
  "metadata": {
    "colab": {
      "provenance": [],
      "toc_visible": true,
      "authorship_tag": "ABX9TyNu3BZaltc80+UlDo4ivXri",
      "include_colab_link": true
    },
    "kernelspec": {
      "name": "python3",
      "display_name": "Python 3"
    },
    "language_info": {
      "name": "python"
    },
    "accelerator": "GPU",
    "gpuClass": "standard"
  },
  "cells": [
    {
      "cell_type": "markdown",
      "metadata": {
        "id": "view-in-github",
        "colab_type": "text"
      },
      "source": [
        "<a href=\"https://colab.research.google.com/github/oyinloluwa20/Deep-Learning/blob/main/pytorch_workflow.ipynb\" target=\"_parent\"><img src=\"https://colab.research.google.com/assets/colab-badge.svg\" alt=\"Open In Colab\"/></a>"
      ]
    },
    {
      "cell_type": "code",
      "execution_count": 1,
      "metadata": {
        "id": "BTZPTFtfOf69",
        "colab": {
          "base_uri": "https://localhost:8080/",
          "height": 35
        },
        "outputId": "2c4acf6b-52a4-4a9f-842d-5c0c4990bfe2"
      },
      "outputs": [
        {
          "output_type": "execute_result",
          "data": {
            "text/plain": [
              "'1.13.1+cu116'"
            ],
            "application/vnd.google.colaboratory.intrinsic+json": {
              "type": "string"
            }
          },
          "metadata": {},
          "execution_count": 1
        }
      ],
      "source": [
        "import torch\n",
        "from torch import nn #nn contains all of pytorch's building block from neural network\n",
        "import matplotlib.pyplot as plt\n",
        "\n",
        "#check pyTorch version\n",
        "torch.__version__\n"
      ]
    },
    {
      "cell_type": "markdown",
      "source": [
        "##Data(preparing and loading)\n",
        "* Excel speadsheet\n",
        "* Images of any kind\n",
        "* Vidoes (youtube has a lot of data...)\n",
        "* Audio like songs or podcasts\n",
        "* DNA\n",
        "* Text\n",
        "\n",
        "Machine learning is a game of two parts:\n",
        "1. Get data into a numerical representation.\n",
        "2. Build a model to learn patterns in that numerical representation.\n",
        "\n",
        "let's create some known data using the linear regression formula.\n",
        "\n",
        "We'll use a linear regression formula to make a straight line with known parameters."
      ],
      "metadata": {
        "id": "l4pkSdozVYwn"
      }
    },
    {
      "cell_type": "markdown",
      "source": [
        "## Linear Regression\n",
        "A linear regression line has an equation of the form Y =a+bX, where Xis the independent variable and Y is the dependent variable. The slope of the line is b and a is the intercept( the value of y when x = 0)\n",
        "\n",
        "### Formula\n",
        "   *Y =f(X,B) + e*\n",
        " * Y = dependent variable\n",
        " * f = function\n",
        " * X = independent variable\n",
        " * B = unknown parameter\n",
        " * e = error"
      ],
      "metadata": {
        "id": "Uy22BedrgEZ3"
      }
    },
    {
      "cell_type": "code",
      "source": [
        "# Create a known parameters\n",
        "weight =0.7\n",
        "bias =0.3\n",
        "\n",
        "#Create\n",
        "start =0\n",
        "end=1\n",
        "step=0.02\n",
        "\n",
        "X = torch.arange(start, end, step).unsqueeze(dim=1)\n",
        "y = weight * X + bias\n",
        "print(f'The len of x and y {len(y), len(X)}')\n",
        "X[:10], y[:10]"
      ],
      "metadata": {
        "colab": {
          "base_uri": "https://localhost:8080/"
        },
        "id": "YxDX5wOfUIRS",
        "outputId": "81032e72-a3f3-4b04-943a-4b5cde7fb7ac"
      },
      "execution_count": 2,
      "outputs": [
        {
          "output_type": "stream",
          "name": "stdout",
          "text": [
            "The len of x and y (50, 50)\n"
          ]
        },
        {
          "output_type": "execute_result",
          "data": {
            "text/plain": [
              "(tensor([[0.0000],\n",
              "         [0.0200],\n",
              "         [0.0400],\n",
              "         [0.0600],\n",
              "         [0.0800],\n",
              "         [0.1000],\n",
              "         [0.1200],\n",
              "         [0.1400],\n",
              "         [0.1600],\n",
              "         [0.1800]]), tensor([[0.3000],\n",
              "         [0.3140],\n",
              "         [0.3280],\n",
              "         [0.3420],\n",
              "         [0.3560],\n",
              "         [0.3700],\n",
              "         [0.3840],\n",
              "         [0.3980],\n",
              "         [0.4120],\n",
              "         [0.4260]]))"
            ]
          },
          "metadata": {},
          "execution_count": 2
        }
      ]
    },
    {
      "cell_type": "code",
      "source": [
        " len(X) , len(y)"
      ],
      "metadata": {
        "colab": {
          "base_uri": "https://localhost:8080/"
        },
        "id": "vU0XMWZhaiss",
        "outputId": "250b72a1-0ccb-48ba-ad13-8bfa9738cb69"
      },
      "execution_count": 3,
      "outputs": [
        {
          "output_type": "execute_result",
          "data": {
            "text/plain": [
              "(50, 50)"
            ]
          },
          "metadata": {},
          "execution_count": 3
        }
      ]
    },
    {
      "cell_type": "markdown",
      "source": [
        "### Splitting data into training and testing sets"
      ],
      "metadata": {
        "id": "3T1amFbab9pj"
      }
    },
    {
      "cell_type": "code",
      "source": [
        "#Create a train/test split\n",
        "train_split =int(0.8 * len(X))\n",
        "X_train, y_train = X[:train_split], y[:train_split]\n",
        "X_test, y_test = X[train_split:], y[train_split:]\n",
        " \n",
        "len(X_train),len(y_train),len(X_test),len(y_test)"
      ],
      "metadata": {
        "colab": {
          "base_uri": "https://localhost:8080/"
        },
        "id": "gu-59H-tcRJK",
        "outputId": "85e54f56-fdef-416f-984e-0c85cc65185a"
      },
      "execution_count": 4,
      "outputs": [
        {
          "output_type": "execute_result",
          "data": {
            "text/plain": [
              "(40, 40, 10, 10)"
            ]
          },
          "metadata": {},
          "execution_count": 4
        }
      ]
    },
    {
      "cell_type": "markdown",
      "source": [
        "##Data visualization\n",
        "Let's visualise our data using the mathplot library"
      ],
      "metadata": {
        "id": "81ORE-45n7sQ"
      }
    },
    {
      "cell_type": "code",
      "source": [
        "def plot_predictions(train_data =X_train,\n",
        "                    train_labels =y_train,\n",
        "                    test_data = X_test,\n",
        "                    test_labels = y_test,\n",
        "                    predictions =None):\n",
        "  \"\"\"\n",
        "  Plots training data, test data and compares predictions.\n",
        "  \"\"\"\n",
        "  plt.figure(figsize=(10,7))\n",
        "\n",
        "  #Plot training data in blue\n",
        "  plt.scatter(train_data, train_labels, c=\"b\", s=4, label =\"Training data\")\n",
        "\n",
        "  #Plot test data in green\n",
        "  plt.scatter(test_data, test_labels, c=\"g\", s=4, label =\"Test data\")\n",
        "\n",
        "  #If there are predictions, then plot it\n",
        "  if predictions is not None:\n",
        "    plt.scatter(test_data, predictions, c =\"r\", s=4 , label =\" Predictions\")\n",
        "\n",
        "  # Show the legend, i.e the show the label\n",
        "  plt.legend(prop ={\"size\" :14});\n"
      ],
      "metadata": {
        "id": "CLlt5cOjhSBY"
      },
      "execution_count": 38,
      "outputs": []
    },
    {
      "cell_type": "code",
      "source": [
        "plot_predictions()"
      ],
      "metadata": {
        "colab": {
          "base_uri": "https://localhost:8080/",
          "height": 428
        },
        "id": "x6G9fEx9pSsm",
        "outputId": "f9a0e14c-2d51-4674-d843-28adc4c0c26d"
      },
      "execution_count": 6,
      "outputs": [
        {
          "output_type": "display_data",
          "data": {
            "text/plain": [
              "<Figure size 720x504 with 1 Axes>"
            ],
            "image/png": "[encoded data removed]"
          },
          "metadata": {
            "needs_background": "light"
          }
        }
      ]
    },
    {
      "cell_type": "markdown",
      "source": [
        "##2. Build model\n",
        "First PyTorch model.\n",
        "you have to be familar with oop in python, https://realpython.com/pyhton3-object-oriented-programming/ is a great resource to learn.\n",
        "\n",
        "The process our model follows:\n",
        "* Start with random values (weight & bias)\n",
        "* Looks at training data and adjust the random values to better represent ( or get closer to) the idea values ( the weight & bias values we used to create the data)\n",
        "\n",
        "How does it do so?\n",
        "\n",
        "Through two main algorithms:\n",
        "1. Gradient descent\n",
        "2. Backpropagation\n",
        "\n",
        "Learn this 2 concepts from 3blue1brown- youtube channel\n"
      ],
      "metadata": {
        "id": "X8K4xeEYragg"
      }
    },
    {
      "cell_type": "code",
      "source": [
        "from torch import nn\n",
        "#Create linear regression model class\n",
        "class linearRegressionModel(nn.Module):\n",
        "  def __init__(self):\n",
        "      super().__init__()\n",
        "      self.weights =nn.Parameter(torch.randn(1,\n",
        "                                             requires_grad =True,\n",
        "                                             dtype= torch.float)) # we create a weight parameter using nn.parameter\n",
        "      self.bias = nn.Parameter(torch.randn(1,\n",
        "                                           requires_grad =True,\n",
        "                                           dtype= torch.float)) # we create a bias also using nn.parameter\n",
        "  #Forward method to define the computation in the model\n",
        "  def forward(self, x:torch.Tensor)-> torch.Tensor: # <- \"x\" is the input data\n",
        "      return self.weights * x +self.bias  #this is the linear regression formula"
      ],
      "metadata": {
        "id": "36p9xRCurV_s"
      },
      "execution_count": 7,
      "outputs": []
    },
    {
      "cell_type": "markdown",
      "source": [
        "### Pytorch model building essentials\n",
        "\n",
        "* torch.nn - contains all of the building blcks for computataion graphs( a neural network can be considered as a computational graph)\n",
        "* torch.nn.parameters - the parameters required for the classes\n",
        "* torch.nn.module - The base class for all neural network modules, if you subclass it, you should overwrite the forward() \n",
        "* torch.optim - this is where the optimizers in PyTorch live, they help with gradient descent\n",
        "* def forward() -A ll nn.module sunclasses requires you to overwrite forward(), this defines what happens in the forward computation\n",
        "* torch.utils.data.Dataset - Represents a map between key(label) and sample(features) pairs of your data. Such as images and their associated labels\n",
        "* torch.utils.data.Dataloader - Creates a Python iterable over a torch Dataset(allows you to iterate over your data)"
      ],
      "metadata": {
        "id": "3N_Nk9voAes0"
      }
    },
    {
      "cell_type": "markdown",
      "source": [
        "## Checking the contents of our PyTorch model\n",
        "To check our model parameters we use .parameters()."
      ],
      "metadata": {
        "id": "tnb91CH3Mg_8"
      }
    },
    {
      "cell_type": "code",
      "source": [
        "# Create a random seed\n",
        "torch.manual_seed(42)\n",
        "\n",
        "# Create an instance of the model\n",
        "model_0 = linearRegressionModel()\n",
        "#Check out the parameters with different methods\n",
        "model_0.bias, model_0.weights,list(model_0.parameters()),model_0.state_dict()\n"
      ],
      "metadata": {
        "colab": {
          "base_uri": "https://localhost:8080/"
        },
        "id": "sbqkb54s2-AS",
        "outputId": "83d86af1-0b1f-4044-e728-2fdc4ccfcb51"
      },
      "execution_count": 8,
      "outputs": [
        {
          "output_type": "execute_result",
          "data": {
            "text/plain": [
              "(Parameter containing:\n",
              " tensor([0.1288], requires_grad=True), Parameter containing:\n",
              " tensor([0.3367], requires_grad=True), [Parameter containing:\n",
              "  tensor([0.3367], requires_grad=True), Parameter containing:\n",
              "  tensor([0.1288], requires_grad=True)], OrderedDict([('weights',\n",
              "               tensor([0.3367])),\n",
              "              ('bias', tensor([0.1288]))]))"
            ]
          },
          "metadata": {},
          "execution_count": 8
        }
      ]
    },
    {
      "cell_type": "markdown",
      "source": [
        "### Making prediction using `torch.inference_mode()`\n",
        "\n",
        "To check our model's predictive power, let's see how well it predicts `y_test` based on `x_test`.\n",
        "When we pass data through our model, it.s going to run it through the `forward()` method."
      ],
      "metadata": {
        "id": "qL2H0QkpVwIR"
      }
    },
    {
      "cell_type": "code",
      "source": [
        "# Make predictions with the model\n",
        "with torch.inference_mode():\n",
        "  y_preds = model_0(X_test)\n",
        "\n",
        "y_preds"
      ],
      "metadata": {
        "colab": {
          "base_uri": "https://localhost:8080/"
        },
        "id": "J5EOMc5oVDIs",
        "outputId": "5ccb6a9b-0651-490d-f4da-24c4f7148474"
      },
      "execution_count": 9,
      "outputs": [
        {
          "output_type": "execute_result",
          "data": {
            "text/plain": [
              "tensor([[0.3982],\n",
              "        [0.4049],\n",
              "        [0.4116],\n",
              "        [0.4184],\n",
              "        [0.4251],\n",
              "        [0.4318],\n",
              "        [0.4386],\n",
              "        [0.4453],\n",
              "        [0.4520],\n",
              "        [0.4588]])"
            ]
          },
          "metadata": {},
          "execution_count": 9
        }
      ]
    },
    {
      "cell_type": "code",
      "source": [
        "plot_predictions(predictions=y_preds)"
      ],
      "metadata": {
        "colab": {
          "base_uri": "https://localhost:8080/",
          "height": 428
        },
        "id": "GpXaXRE6cl2s",
        "outputId": "6ae6c9e6-bce7-49c6-fc53-d8b27aa8fb22"
      },
      "execution_count": 10,
      "outputs": [
        {
          "output_type": "display_data",
          "data": {
            "text/plain": [
              "<Figure size 720x504 with 1 Axes>"
            ],
            "image/png": "[encoded data removed]"
          },
          "metadata": {
            "needs_background": "light"
          }
        }
      ]
    },
    {
      "cell_type": "markdown",
      "source": [
        "## 3. Train model\n",
        "\n",
        "The whole idea of training is for a model to move from some *unknown* parameters (these may be random) to a known parameters\n",
        "\n",
        "or in other wors from a poor representation of the data to a better representation\n",
        "\n",
        "One way to measure how poor or how wrong your models predictions are, is to use a loss function.\n",
        "\n",
        "* Note: Loss function may also be called cost function or critierion in different areas\n",
        "\n",
        "Things we need to train:\n",
        "\n",
        "* **Loss function:** A function to measure how wrong your model's predictions are to the ideal outputs, lower is better\n",
        "* **Optimizer:** Takes into account the loss of a model and adjust the model.s parameters (i.e weight& bias) to improve our loss\n",
        "  * Inside the optimizer you will often have two parameters\n",
        "    * `params` -the model parameter you'd like to optimise, for example `params = model_0.paramters`\n",
        "    *`lr`(learning rate) - the rate is a hyperparameter that defines how big/small the optimizers change the parameters with each step( a small `lr` results in small chages, a large `lr` results in large chages)\n",
        "\n",
        "And specifically for PyTorch we need:\n",
        "* A training loop \n",
        "* A testing loop\n",
        "\n"
      ],
      "metadata": {
        "id": "FLxa0vP3d3Vi"
      }
    },
    {
      "cell_type": "code",
      "source": [
        "list(model_0.parameters())"
      ],
      "metadata": {
        "colab": {
          "base_uri": "https://localhost:8080/"
        },
        "id": "EEb_utNxhA0D",
        "outputId": "79b52750-bad9-4e34-c80a-9c77f796ffc0"
      },
      "execution_count": 11,
      "outputs": [
        {
          "output_type": "execute_result",
          "data": {
            "text/plain": [
              "[Parameter containing:\n",
              " tensor([0.3367], requires_grad=True), Parameter containing:\n",
              " tensor([0.1288], requires_grad=True)]"
            ]
          },
          "metadata": {},
          "execution_count": 11
        }
      ]
    },
    {
      "cell_type": "code",
      "source": [
        "model_0.state_dict()"
      ],
      "metadata": {
        "id": "8OrWYO2thH30",
        "colab": {
          "base_uri": "https://localhost:8080/"
        },
        "outputId": "3912a3d9-4142-47ac-cee4-8a31f6b9c459"
      },
      "execution_count": 12,
      "outputs": [
        {
          "output_type": "execute_result",
          "data": {
            "text/plain": [
              "OrderedDict([('weights', tensor([0.3367])), ('bias', tensor([0.1288]))])"
            ]
          },
          "metadata": {},
          "execution_count": 12
        }
      ]
    },
    {
      "cell_type": "markdown",
      "source": [
        "For our model we use Mean absolute error(MAE)\n",
        "\n",
        "MAE_loss = torch.mean(torch.abs(y_pred-y_test))\n",
        "or MAE_loss = torch.nn.L1Loss\n"
      ],
      "metadata": {
        "id": "PIiMd2FEprHm"
      }
    },
    {
      "cell_type": "code",
      "source": [
        "# Setup a loss function\n",
        "loss_fn = nn.L1Loss()\n",
        "\n",
        "# Setup an optimizer(stochastic gradient descent)\n",
        "\n",
        "optimizer = torch.optim.SGD(params= model_0.parameters(), lr= 0.01)"
      ],
      "metadata": {
        "id": "VI29YZX4ppqu"
      },
      "execution_count": 13,
      "outputs": []
    },
    {
      "cell_type": "markdown",
      "source": [
        "The choice of loss function and optimizer is usually problem specific, you try out different one until you get an idea of what works and what doesnt\n",
        "\n",
        "For our regressioin model we chose the `nn.L1Loss()` as the loss function and an optimizer `torch.optim.SGD()` was used\n",
        "\n",
        "But for a classification problem e.g dog and cat classification, the loss model `nn.BCELoss)` (binary cross entropy loss)would perform better\n"
      ],
      "metadata": {
        "id": "Gdm8MNJ0seUX"
      }
    },
    {
      "cell_type": "markdown",
      "source": [
        "### Building a training loop ( and a testing) in PyTorch\n",
        "\n",
        "A couple of things we need in a training loop:\n",
        "0. Loop through the data\n",
        "1. Forward pass ( this involves moving data through our model's `forward()`\n",
        "functions) to make predictions on data - also called forward propagation\n",
        "2. calaculate the loss( compare forward pass predictions to ground truth labels)\n",
        "3. Optimizer zeero grad\n",
        "4. Loss backward - moves backward through the network to calculate the gradients of each of the parameters of our model with respect to the loss ( **backpropagation** )\n",
        "5. Optimizer step -user the optimizer to adjust our models parameters to improve the loss(**gradient desesent**)"
      ],
      "metadata": {
        "id": "oOHrs30zvtPV"
      }
    },
    {
      "cell_type": "code",
      "source": [
        "torch.manual_seed(42)\n",
        "# An epoch is one loop through data...(this is a hyperparameter because we set it ourself)\n",
        "epochs =200\n",
        "# Track different values\n",
        "epoch_count =[]\n",
        "loss_values =[]\n",
        "test_loss_values =[]\n",
        "###Training\n",
        "# 0. Loop through \n",
        "for epoch in range(epochs):\n",
        "  # set the model to trianing mode  \n",
        "  model_0.train() # train mode in PyTorch sets all parameters that require gradients to reqire gradients\n",
        "\n",
        "  #1. Forward pass\n",
        "  y_pred = model_0(X_train)\n",
        "\n",
        "  #2. Calculate the loss\n",
        "  loss= loss_fn(y_pred, y_train)\n",
        "  #print(f\"Loss:{loss}\")\n",
        "\n",
        "  #3. Optimizer zero grad\n",
        "  optimizer.zero_grad()\n",
        "\n",
        "  #4. Perform backpropagation on the loss with respect to the parameters of the model\n",
        "  loss.backward()\n",
        "\n",
        "  #5. Step the optimizer (perform gradient descent)\n",
        "  optimizer.step() # by default how the optimizer changes would accumulate throughr the loop, so wwe have to zero them above in step 3 for the next iteration of the loop\n",
        "\n",
        "  model_0.eval()  # turns off gradient tracking turns off different setting in the model not needed for evaluation/testing(dropout/batch norm layers)\n",
        "  with torch.inference_mode():  # turns off gradient tracking & a couple of things behind the scene\n",
        "  # with torch.nograd(): you would see this in older PyTorch code, it does almost the same thing as the inference mode but the inference mode is slightly better\n",
        "    #1. Do the forward pass\n",
        "    test_pred = model_0(X_test)\n",
        "    #2. Calculate the loss\n",
        "    test_loss = loss_fn(test_pred, y_test)\n",
        "  if epoch % 10 == 0:\n",
        "    epoch_count.append(epoch)\n",
        "    loss_values.append(loss)\n",
        "    test_loss_values.append(test_loss)\n",
        "    print(f\"Epoch: {epoch} | Loss: {loss} | Test_loss: {test_loss}\")  \n",
        "    # Print out model state_dict()\n",
        "    print(model_0.state_dict())"
      ],
      "metadata": {
        "id": "ALAL4aeisgbM",
        "colab": {
          "base_uri": "https://localhost:8080/"
        },
        "outputId": "9c4617ef-75f2-48b4-d5b9-3fe2602be4cb"
      },
      "execution_count": 14,
      "outputs": [
        {
          "output_type": "stream",
          "name": "stdout",
          "text": [
            "Epoch: 0 | Loss: 0.31288138031959534 | Test_loss: 0.48106518387794495\n",
            "OrderedDict([('weights', tensor([0.3406])), ('bias', tensor([0.1388]))])\n",
            "Epoch: 10 | Loss: 0.1976713240146637 | Test_loss: 0.3463551998138428\n",
            "OrderedDict([('weights', tensor([0.3796])), ('bias', tensor([0.2388]))])\n",
            "Epoch: 20 | Loss: 0.08908725529909134 | Test_loss: 0.21729660034179688\n",
            "OrderedDict([('weights', tensor([0.4184])), ('bias', tensor([0.3333]))])\n",
            "Epoch: 30 | Loss: 0.053148526698350906 | Test_loss: 0.14464017748832703\n",
            "OrderedDict([('weights', tensor([0.4512])), ('bias', tensor([0.3768]))])\n",
            "Epoch: 40 | Loss: 0.04543796554207802 | Test_loss: 0.11360953003168106\n",
            "OrderedDict([('weights', tensor([0.4748])), ('bias', tensor([0.3868]))])\n",
            "Epoch: 50 | Loss: 0.04167863354086876 | Test_loss: 0.09919948130846024\n",
            "OrderedDict([('weights', tensor([0.4938])), ('bias', tensor([0.3843]))])\n",
            "Epoch: 60 | Loss: 0.03818932920694351 | Test_loss: 0.08886633068323135\n",
            "OrderedDict([('weights', tensor([0.5116])), ('bias', tensor([0.3788]))])\n",
            "Epoch: 70 | Loss: 0.03476089984178543 | Test_loss: 0.0805937647819519\n",
            "OrderedDict([('weights', tensor([0.5288])), ('bias', tensor([0.3718]))])\n",
            "Epoch: 80 | Loss: 0.03132382780313492 | Test_loss: 0.07232122868299484\n",
            "OrderedDict([('weights', tensor([0.5459])), ('bias', tensor([0.3648]))])\n",
            "Epoch: 90 | Loss: 0.02788739837706089 | Test_loss: 0.06473556160926819\n",
            "OrderedDict([('weights', tensor([0.5629])), ('bias', tensor([0.3573]))])\n",
            "Epoch: 100 | Loss: 0.024458957836031914 | Test_loss: 0.05646304413676262\n",
            "OrderedDict([('weights', tensor([0.5800])), ('bias', tensor([0.3503]))])\n",
            "Epoch: 110 | Loss: 0.021020207554101944 | Test_loss: 0.04819049686193466\n",
            "OrderedDict([('weights', tensor([0.5972])), ('bias', tensor([0.3433]))])\n",
            "Epoch: 120 | Loss: 0.01758546568453312 | Test_loss: 0.04060482233762741\n",
            "OrderedDict([('weights', tensor([0.6141])), ('bias', tensor([0.3358]))])\n",
            "Epoch: 130 | Loss: 0.014155393466353416 | Test_loss: 0.03233227878808975\n",
            "OrderedDict([('weights', tensor([0.6313])), ('bias', tensor([0.3288]))])\n",
            "Epoch: 140 | Loss: 0.010716589167714119 | Test_loss: 0.024059748277068138\n",
            "OrderedDict([('weights', tensor([0.6485])), ('bias', tensor([0.3218]))])\n",
            "Epoch: 150 | Loss: 0.0072835334576666355 | Test_loss: 0.016474086791276932\n",
            "OrderedDict([('weights', tensor([0.6654])), ('bias', tensor([0.3143]))])\n",
            "Epoch: 160 | Loss: 0.0038517764769494534 | Test_loss: 0.008201557211577892\n",
            "OrderedDict([('weights', tensor([0.6826])), ('bias', tensor([0.3073]))])\n",
            "Epoch: 170 | Loss: 0.008932482451200485 | Test_loss: 0.005023092031478882\n",
            "OrderedDict([('weights', tensor([0.6951])), ('bias', tensor([0.2993]))])\n",
            "Epoch: 180 | Loss: 0.008932482451200485 | Test_loss: 0.005023092031478882\n",
            "OrderedDict([('weights', tensor([0.6951])), ('bias', tensor([0.2993]))])\n",
            "Epoch: 190 | Loss: 0.008932482451200485 | Test_loss: 0.005023092031478882\n",
            "OrderedDict([('weights', tensor([0.6951])), ('bias', tensor([0.2993]))])\n"
          ]
        }
      ]
    },
    {
      "cell_type": "code",
      "source": [
        "import numpy as np\n",
        "# np.array(torch.tensor(loss_values).)"
      ],
      "metadata": {
        "id": "KxBlmTxBvNar"
      },
      "execution_count": 15,
      "outputs": []
    },
    {
      "cell_type": "code",
      "source": [
        "#Plot the loss curves\n",
        "plt.plot(epoch_count, np.array(torch.tensor(loss_values).numpy()), label=\"Train loss\")\n",
        "plt.plot(epoch_count, test_loss_values, label =\"Test loss\")\n",
        "plt.title(\"Training and test loss curves\")\n",
        "plt.ylabel(\"Loss\")\n",
        "plt.xlabel(\"Epochs\")\n",
        "plt.legend();"
      ],
      "metadata": {
        "colab": {
          "base_uri": "https://localhost:8080/",
          "height": 295
        },
        "id": "jcEWHNdtZteZ",
        "outputId": "8021281b-23b0-4297-8992-305254c082ea"
      },
      "execution_count": 16,
      "outputs": [
        {
          "output_type": "display_data",
          "data": {
            "text/plain": [
              "<Figure size 432x288 with 1 Axes>"
            ],
            "image/png": "[encoded data removed]"
          },
          "metadata": {
            "needs_background": "light"
          }
        }
      ]
    },
    {
      "cell_type": "code",
      "source": [
        "with torch.inference_mode():\n",
        "  y_preds_new = model_0(X_test)"
      ],
      "metadata": {
        "id": "WeTbP_ZDDSFn"
      },
      "execution_count": 17,
      "outputs": []
    },
    {
      "cell_type": "code",
      "source": [
        "model_0.state_dict()"
      ],
      "metadata": {
        "colab": {
          "base_uri": "https://localhost:8080/"
        },
        "id": "ZiVHeSHCSajo",
        "outputId": "9efb4630-753a-4b8b-a008-346d8e1cf84c"
      },
      "execution_count": 18,
      "outputs": [
        {
          "output_type": "execute_result",
          "data": {
            "text/plain": [
              "OrderedDict([('weights', tensor([0.6990])), ('bias', tensor([0.3093]))])"
            ]
          },
          "metadata": {},
          "execution_count": 18
        }
      ]
    },
    {
      "cell_type": "code",
      "source": [
        "plot_predictions(predictions=y_preds_new)"
      ],
      "metadata": {
        "colab": {
          "base_uri": "https://localhost:8080/",
          "height": 428
        },
        "id": "Rfc4XoAV-1rg",
        "outputId": "0a67f8dd-b002-4dec-9f80-6cd7f1b29e31"
      },
      "execution_count": 19,
      "outputs": [
        {
          "output_type": "display_data",
          "data": {
            "text/plain": [
              "<Figure size 720x504 with 1 Axes>"
            ],
            "image/png": "[encoded data removed]"
          },
          "metadata": {
            "needs_background": "light"
          }
        }
      ]
    },
    {
      "cell_type": "markdown",
      "source": [
        "## Saving models in PyTorch\n",
        "There are three main methods you should go about saving and loading models in PyTorch.\n",
        "\n",
        "1. `torch.save()` - allows you save a PyTorch object in Python's pickle format\n",
        "2. `torch.load()` - allows you to load a saved PyTorch object\n",
        "3. `torch.module.ss.load_state_dict()` - allows you to load a model's saved state dictionary"
      ],
      "metadata": {
        "id": "bicgGUe-xBjB"
      }
    },
    {
      "cell_type": "code",
      "source": [
        "# Saving our PyTorch model\n",
        "from pathlib import Path\n",
        "\n",
        "#1. Create models directory\n",
        "MODEL_PATH =Path(\"models\")\n",
        "MODEL_PATH.mkdir(parents=True, exist_ok =True)\n",
        "\n",
        "#2. Create model save path\n",
        "MODEL_NAME =\"01_pytorch_workflow_model_0.pth\"\n",
        "MODEL_SAVE_PATH = MODEL_PATH / MODEL_NAME\n",
        "\n",
        "print(f\"Saving model to: {MODEL_SAVE_PATH}\")\n",
        "torch.save(obj= model_0.state_dict(), \n",
        "           f=MODEL_SAVE_PATH)"
      ],
      "metadata": {
        "colab": {
          "base_uri": "https://localhost:8080/"
        },
        "id": "RI7DEVhwxAbn",
        "outputId": "1bde10d3-c4e7-4793-c1c3-b1ffc9ecd45f"
      },
      "execution_count": 20,
      "outputs": [
        {
          "output_type": "stream",
          "name": "stdout",
          "text": [
            "Saving model to: models/01_pytorch_workflow_model_0.pth\n"
          ]
        }
      ]
    },
    {
      "cell_type": "code",
      "source": [
        "!ls -l models"
      ],
      "metadata": {
        "colab": {
          "base_uri": "https://localhost:8080/"
        },
        "id": "Ly2uErdN2sQs",
        "outputId": "8fa6dbef-ea99-4391-b6a9-1e4f1bd88748"
      },
      "execution_count": 21,
      "outputs": [
        {
          "output_type": "stream",
          "name": "stdout",
          "text": [
            "total 4\n",
            "-rw-r--r-- 1 root root 1207 Mar 27 18:39 01_pytorch_workflow_model_0.pth\n"
          ]
        }
      ]
    },
    {
      "cell_type": "markdown",
      "source": [
        "## Loading a PyTorch model\n",
        "\n",
        "Since we saved our models's `state_dict()` rather than the entire model, we'll create a new instance of our model class and load the saved `state_dict()` into that "
      ],
      "metadata": {
        "id": "3BZsBYdq4UhI"
      }
    },
    {
      "cell_type": "code",
      "source": [
        "model_0.state_dict()"
      ],
      "metadata": {
        "colab": {
          "base_uri": "https://localhost:8080/"
        },
        "id": "PUUxX8UB9Sc5",
        "outputId": "71be6244-b5c9-45f7-c1e1-1255fb792f96"
      },
      "execution_count": 22,
      "outputs": [
        {
          "output_type": "execute_result",
          "data": {
            "text/plain": [
              "OrderedDict([('weights', tensor([0.6990])), ('bias', tensor([0.3093]))])"
            ]
          },
          "metadata": {},
          "execution_count": 22
        }
      ]
    },
    {
      "cell_type": "code",
      "source": [
        "# To load in a saved_dict we have to instantiate a new instance of our model class\n",
        "loaded_model_0 = linearRegressionModel()\n",
        "\n",
        "#Load the saved state_dict of model_0 (this will update the neew instance with updated parameters)\n",
        "loaded_model_0.load_state_dict(torch.load(f=MODEL_SAVE_PATH))"
      ],
      "metadata": {
        "colab": {
          "base_uri": "https://localhost:8080/"
        },
        "id": "jH2KLEbN4APk",
        "outputId": "74f61c48-e6e6-41aa-86b6-e84c62785cb8"
      },
      "execution_count": 23,
      "outputs": [
        {
          "output_type": "execute_result",
          "data": {
            "text/plain": [
              "<All keys matched successfully>"
            ]
          },
          "metadata": {},
          "execution_count": 23
        }
      ]
    },
    {
      "cell_type": "code",
      "source": [
        "# torch.manual_seed(42)\n",
        "loaded_model_0.state_dict()"
      ],
      "metadata": {
        "colab": {
          "base_uri": "https://localhost:8080/"
        },
        "id": "NZaqxdnR9miB",
        "outputId": "4851c324-2e01-4237-9108-78f8d684caae"
      },
      "execution_count": 24,
      "outputs": [
        {
          "output_type": "execute_result",
          "data": {
            "text/plain": [
              "OrderedDict([('weights', tensor([0.6990])), ('bias', tensor([0.3093]))])"
            ]
          },
          "metadata": {},
          "execution_count": 24
        }
      ]
    },
    {
      "cell_type": "code",
      "source": [
        "model_0.eval()\n",
        "\n",
        "with torch.inference_mode():\n",
        "  y_preds = model_0(X_test)\n",
        "\n",
        "# plot_predictions(y_preds_new)"
      ],
      "metadata": {
        "id": "qGwSVIaj-yku"
      },
      "execution_count": 26,
      "outputs": []
    },
    {
      "cell_type": "code",
      "source": [
        "  y_preds == loaded_model_preds"
      ],
      "metadata": {
        "id": "AiXeV8ZHB5zj"
      },
      "execution_count": null,
      "outputs": []
    },
    {
      "cell_type": "markdown",
      "source": [
        "## 6. Putting it all together\n",
        "\n",
        "Let's go back through the above steps and see it together in one place."
      ],
      "metadata": {
        "id": "JgoeB6L9DDFc"
      }
    },
    {
      "cell_type": "code",
      "source": [
        "import torch\n",
        "from torch import nn\n",
        "import matplotlib.pyplot as plt\n",
        "\n",
        "# Check our version\n",
        "torch.__version__\n"
      ],
      "metadata": {
        "colab": {
          "base_uri": "https://localhost:8080/",
          "height": 35
        },
        "id": "zj1MojzNDCCj",
        "outputId": "22384cd4-17cc-4f70-aa05-0f81ed03d53a"
      },
      "execution_count": 23,
      "outputs": [
        {
          "output_type": "execute_result",
          "data": {
            "text/plain": [
              "'1.13.1+cu116'"
            ],
            "application/vnd.google.colaboratory.intrinsic+json": {
              "type": "string"
            }
          },
          "metadata": {},
          "execution_count": 23
        }
      ]
    },
    {
      "cell_type": "markdown",
      "source": [
        "Create device-agnostic code\n",
        "\n",
        "This means if our device got access to gpu we would use( for potentially faster computing).\n",
        "\n",
        "If GPU is not available, the code would default to CPU."
      ],
      "metadata": {
        "id": "B3LYrP_SELf6"
      }
    },
    {
      "cell_type": "code",
      "source": [
        "device =\"cuda\" if torch.cuda.is_available() else \"cpu\"\n",
        "print(f\"Using device:{device}\")"
      ],
      "metadata": {
        "colab": {
          "base_uri": "https://localhost:8080/"
        },
        "id": "52lNGhIMEw3r",
        "outputId": "18935faf-93ef-46c5-9926-69405db28441"
      },
      "execution_count": 24,
      "outputs": [
        {
          "output_type": "stream",
          "name": "stdout",
          "text": [
            "Using device:cuda\n"
          ]
        }
      ]
    },
    {
      "cell_type": "code",
      "source": [
        "!nvidia-smi"
      ],
      "metadata": {
        "id": "YuX-XvuxF6eE"
      },
      "execution_count": null,
      "outputs": []
    },
    {
      "cell_type": "markdown",
      "source": [
        "## 6.1 Data"
      ],
      "metadata": {
        "id": "L6P5hh-mGJwx"
      }
    },
    {
      "cell_type": "code",
      "source": [
        " # Create some data using the linear regression formula: y = weight * X + bias\n",
        "\n",
        " weight = 0.7\n",
        " bias =0.3\n",
        "\n",
        " # Create some range of values\n",
        " start = 0\n",
        " stop =1\n",
        " step =0.02\n",
        "\n",
        " X = torch.arange(start = start, end = stop, step = step).unsqueeze(dim=1)\n",
        " y = weight * X + bias\n",
        "\n",
        " X[:10], y[:10]\n",
        "\n"
      ],
      "metadata": {
        "id": "l6UjqiagGP6T"
      },
      "execution_count": null,
      "outputs": []
    },
    {
      "cell_type": "code",
      "source": [
        "# Split the data\n",
        "train_split = int(0.8*len(X))\n",
        "train_split\n",
        "\n",
        "X_train, y_train = X[:train_split], y[:train_split]\n",
        "X_test, y_test = X[train_split:], y[train_split:]\n",
        "len(y_test), len(y_train)"
      ],
      "metadata": {
        "colab": {
          "base_uri": "https://localhost:8080/"
        },
        "id": "05h2zU5tJNGb",
        "outputId": "99bec7a1-3fcc-4d49-d5f6-020a50cda82d"
      },
      "execution_count": 26,
      "outputs": [
        {
          "output_type": "execute_result",
          "data": {
            "text/plain": [
              "(10, 40)"
            ]
          },
          "metadata": {},
          "execution_count": 26
        }
      ]
    },
    {
      "cell_type": "code",
      "source": [
        "plot_predictions(X_train, y_train, X_test, y_test)"
      ],
      "metadata": {
        "colab": {
          "base_uri": "https://localhost:8080/",
          "height": 428
        },
        "id": "0Vde1AZ1MsmY",
        "outputId": "1c997e57-dffb-4df0-9bb0-b643020b3894"
      },
      "execution_count": 37,
      "outputs": [
        {
          "output_type": "display_data",
          "data": {
            "text/plain": [
              "<Figure size 720x504 with 1 Axes>"
            ],
            "image/png": "[encoded data removed]"
          },
          "metadata": {
            "needs_background": "light"
          }
        }
      ]
    },
    {
      "cell_type": "markdown",
      "source": [
        "##6.2 Bulid a PyTorch Linear model"
      ],
      "metadata": {
        "id": "Eo_rKE2ANobW"
      }
    },
    {
      "cell_type": "code",
      "source": [
        "class LinearRegressionModel(nn.Module):\n",
        "  def __init__(self):\n",
        "    super().__init__()\n",
        "    #Use nn.Linear() for creating the model parameter/ also called linear transform, probing layer, fully connected layer, dense layer\n",
        "    self.linear_layer = nn.Linear(in_features =1,\n",
        "                                    out_features =1)\n",
        "\n",
        "  def forward(self, x:torch.Tensor)->torch.Tensor: \n",
        "    return self.linear_layer\n",
        "\n"
      ],
      "metadata": {
        "id": "Ykd8whqyNyr1"
      },
      "execution_count": 37,
      "outputs": []
    },
    {
      "cell_type": "code",
      "source": [
        "torch.manual_seed(42)\n",
        "model_1 = LinearRegressionModel()\n",
        "model_1.state_dict()"
      ],
      "metadata": {
        "colab": {
          "base_uri": "https://localhost:8080/"
        },
        "id": "ZIwFTx_oQcXZ",
        "outputId": "822a65de-38de-45a1-f735-8c86dd7ab6bb"
      },
      "execution_count": 38,
      "outputs": [
        {
          "output_type": "execute_result",
          "data": {
            "text/plain": [
              "OrderedDict([('linear_layer.weight', tensor([[0.7645]])),\n",
              "             ('linear_layer.bias', tensor([0.8300]))])"
            ]
          },
          "metadata": {},
          "execution_count": 38
        }
      ]
    },
    {
      "cell_type": "code",
      "source": [
        "#Check the model current device\n",
        "next(model_1.parameters()).device"
      ],
      "metadata": {
        "colab": {
          "base_uri": "https://localhost:8080/"
        },
        "id": "-VUFGlYLcLvu",
        "outputId": "688b8564-24ea-4cb9-a323-2c5866a598c6"
      },
      "execution_count": 40,
      "outputs": [
        {
          "output_type": "execute_result",
          "data": {
            "text/plain": [
              "device(type='cpu')"
            ]
          },
          "metadata": {},
          "execution_count": 40
        }
      ]
    },
    {
      "cell_type": "code",
      "source": [
        "model_1.to(device)\n",
        "next(model_1.parameters()).device\n"
      ],
      "metadata": {
        "colab": {
          "base_uri": "https://localhost:8080/"
        },
        "id": "fTmS0rZucjFO",
        "outputId": "603067b7-63d2-4d74-ae76-94ed1164fd0c"
      },
      "execution_count": 41,
      "outputs": [
        {
          "output_type": "execute_result",
          "data": {
            "text/plain": [
              "device(type='cuda', index=0)"
            ]
          },
          "metadata": {},
          "execution_count": 41
        }
      ]
    },
    {
      "cell_type": "code",
      "source": [
        "model_1.state_dict()\n"
      ],
      "metadata": {
        "colab": {
          "base_uri": "https://localhost:8080/"
        },
        "id": "fcBV_hu7dbiO",
        "outputId": "6f3eb596-b530-4ae2-b8e9-96fffe9d4759"
      },
      "execution_count": 42,
      "outputs": [
        {
          "output_type": "execute_result",
          "data": {
            "text/plain": [
              "OrderedDict([('linear_layer.weight', tensor([[0.7645]], device='cuda:0')),\n",
              "             ('linear_layer.bias', tensor([0.8300], device='cuda:0'))])"
            ]
          },
          "metadata": {},
          "execution_count": 42
        }
      ]
    },
    {
      "cell_type": "markdown",
      "source": [
        "###6.3 Training\n",
        "\n",
        "For training we need:\n",
        "* Loss function\n",
        "* Optimizer\n",
        "* Training loop\n",
        "* Testing loop\n"
      ],
      "metadata": {
        "id": "beWxOk9xc6Ol"
      }
    },
    {
      "cell_type": "code",
      "source": [
        "# Setup a loss function\n",
        "loss_fn = nn.L1Loss()\n",
        "\n",
        "# Setup an optimizer(stochastic gradient descent)\n",
        "\n",
        "optimizer = torch.optim.SGD(params= model_1.parameters(), lr= 0.01)"
      ],
      "metadata": {
        "id": "IyYzLmCqd-KF"
      },
      "execution_count": null,
      "outputs": []
    },
    {
      "cell_type": "code",
      "source": [],
      "metadata": {
        "id": "Fbvt_y4cecQJ"
      },
      "execution_count": null,
      "outputs": []
    },
    {
      "cell_type": "markdown",
      "source": [],
      "metadata": {
        "id": "8vkOZ7sZc6LX"
      }
    },
    {
      "cell_type": "code",
      "source": [
        "with torch.inference_mode():\n",
        "  y_preds = model_1(X_test)\n",
        "\n",
        "y_preds"
      ],
      "metadata": {
        "colab": {
          "base_uri": "https://localhost:8080/"
        },
        "id": "-QvuQpvtbvPh",
        "outputId": "5098e3d9-ed3d-41db-ddbd-b0c49dd80ece"
      },
      "execution_count": 39,
      "outputs": [
        {
          "output_type": "execute_result",
          "data": {
            "text/plain": [
              "Linear(in_features=1, out_features=1, bias=True)"
            ]
          },
          "metadata": {},
          "execution_count": 39
        }
      ]
    }
  ]
}